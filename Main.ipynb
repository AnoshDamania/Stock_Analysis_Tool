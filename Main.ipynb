{
  "cells": [
    {
      "cell_type": "markdown",
      "metadata": {
        "id": "ZNNuKIFB8Qky"
      },
      "source": [
        "## This Project has been DEPLOYED\n",
        "\n",
        "## https://huggingface.co/spaces/AnoshDamania/Stock_Analysis_tool\n"
      ]
    },
    {
      "cell_type": "code",
      "source": [
        "!pip install statsmodels.tsa"
      ],
      "metadata": {
        "colab": {
          "base_uri": "https://localhost:8080/"
        },
        "id": "guANInGr3MaN",
        "outputId": "ceb6c89e-c506-4d42-cc8e-e75a74428a72"
      },
      "execution_count": null,
      "outputs": [
        {
          "output_type": "stream",
          "name": "stdout",
          "text": [
            "\u001b[31mERROR: Could not find a version that satisfies the requirement statsmodels.tsa (from versions: none)\u001b[0m\u001b[31m\n",
            "\u001b[0m\u001b[31mERROR: No matching distribution found for statsmodels.tsa\u001b[0m\u001b[31m\n",
            "\u001b[0m"
          ]
        }
      ]
    },
    {
      "cell_type": "code",
      "execution_count": null,
      "metadata": {
        "colab": {
          "base_uri": "https://localhost:8080/"
        },
        "id": "v2SoDCDzLuFa",
        "outputId": "d415cf88-266f-4cfd-fa9f-3f6f8d79b63c"
      },
      "outputs": [
        {
          "output_type": "stream",
          "name": "stdout",
          "text": [
            "Collecting gradio\n",
            "  Downloading gradio-3.36.0-py3-none-any.whl (19.8 MB)\n",
            "\u001b[2K     \u001b[90m━━━━━━━━━━━━━━━━━━━━━━━━━━━━━━━━━━━━━━━━\u001b[0m \u001b[32m19.8/19.8 MB\u001b[0m \u001b[31m75.2 MB/s\u001b[0m eta \u001b[36m0:00:00\u001b[0m\n",
            "\u001b[?25hCollecting aiofiles (from gradio)\n",
            "  Downloading aiofiles-23.1.0-py3-none-any.whl (14 kB)\n",
            "Requirement already satisfied: aiohttp in /usr/local/lib/python3.10/dist-packages (from gradio) (3.8.4)\n",
            "Requirement already satisfied: altair>=4.2.0 in /usr/local/lib/python3.10/dist-packages (from gradio) (4.2.2)\n",
            "Collecting fastapi (from gradio)\n",
            "  Downloading fastapi-0.99.1-py3-none-any.whl (58 kB)\n",
            "\u001b[2K     \u001b[90m━━━━━━━━━━━━━━━━━━━━━━━━━━━━━━━━━━━━━━━━\u001b[0m \u001b[32m58.4/58.4 kB\u001b[0m \u001b[31m7.4 MB/s\u001b[0m eta \u001b[36m0:00:00\u001b[0m\n",
            "\u001b[?25hCollecting ffmpy (from gradio)\n",
            "  Downloading ffmpy-0.3.0.tar.gz (4.8 kB)\n",
            "  Preparing metadata (setup.py) ... \u001b[?25l\u001b[?25hdone\n",
            "Collecting gradio-client>=0.2.7 (from gradio)\n",
            "  Downloading gradio_client-0.2.7-py3-none-any.whl (288 kB)\n",
            "\u001b[2K     \u001b[90m━━━━━━━━━━━━━━━━━━━━━━━━━━━━━━━━━━━━━━\u001b[0m \u001b[32m288.4/288.4 kB\u001b[0m \u001b[31m28.3 MB/s\u001b[0m eta \u001b[36m0:00:00\u001b[0m\n",
            "\u001b[?25hCollecting httpx (from gradio)\n",
            "  Downloading httpx-0.24.1-py3-none-any.whl (75 kB)\n",
            "\u001b[2K     \u001b[90m━━━━━━━━━━━━━━━━━━━━━━━━━━━━━━━━━━━━━━━━\u001b[0m \u001b[32m75.4/75.4 kB\u001b[0m \u001b[31m6.0 MB/s\u001b[0m eta \u001b[36m0:00:00\u001b[0m\n",
            "\u001b[?25hCollecting huggingface-hub>=0.14.0 (from gradio)\n",
            "  Downloading huggingface_hub-0.16.2-py3-none-any.whl (268 kB)\n",
            "\u001b[2K     \u001b[90m━━━━━━━━━━━━━━━━━━━━━━━━━━━━━━━━━━━━━━\u001b[0m \u001b[32m268.5/268.5 kB\u001b[0m \u001b[31m28.2 MB/s\u001b[0m eta \u001b[36m0:00:00\u001b[0m\n",
            "\u001b[?25hRequirement already satisfied: jinja2 in /usr/local/lib/python3.10/dist-packages (from gradio) (3.1.2)\n",
            "Requirement already satisfied: markdown-it-py[linkify]>=2.0.0 in /usr/local/lib/python3.10/dist-packages (from gradio) (3.0.0)\n",
            "Requirement already satisfied: markupsafe in /usr/local/lib/python3.10/dist-packages (from gradio) (2.1.3)\n",
            "Requirement already satisfied: matplotlib in /usr/local/lib/python3.10/dist-packages (from gradio) (3.7.1)\n",
            "Collecting mdit-py-plugins<=0.3.3 (from gradio)\n",
            "  Downloading mdit_py_plugins-0.3.3-py3-none-any.whl (50 kB)\n",
            "\u001b[2K     \u001b[90m━━━━━━━━━━━━━━━━━━━━━━━━━━━━━━━━━━━━━━━━\u001b[0m \u001b[32m50.5/50.5 kB\u001b[0m \u001b[31m4.5 MB/s\u001b[0m eta \u001b[36m0:00:00\u001b[0m\n",
            "\u001b[?25hRequirement already satisfied: numpy in /usr/local/lib/python3.10/dist-packages (from gradio) (1.22.4)\n",
            "Collecting orjson (from gradio)\n",
            "  Downloading orjson-3.9.1-cp310-cp310-manylinux_2_17_x86_64.manylinux2014_x86_64.whl (136 kB)\n",
            "\u001b[2K     \u001b[90m━━━━━━━━━━━━━━━━━━━━━━━━━━━━━━━━━━━━━━\u001b[0m \u001b[32m137.0/137.0 kB\u001b[0m \u001b[31m10.4 MB/s\u001b[0m eta \u001b[36m0:00:00\u001b[0m\n",
            "\u001b[?25hRequirement already satisfied: pandas in /usr/local/lib/python3.10/dist-packages (from gradio) (1.5.3)\n",
            "Requirement already satisfied: pillow in /usr/local/lib/python3.10/dist-packages (from gradio) (8.4.0)\n",
            "Requirement already satisfied: pydantic in /usr/local/lib/python3.10/dist-packages (from gradio) (1.10.9)\n",
            "Collecting pydub (from gradio)\n",
            "  Downloading pydub-0.25.1-py2.py3-none-any.whl (32 kB)\n",
            "Requirement already satisfied: pygments>=2.12.0 in /usr/local/lib/python3.10/dist-packages (from gradio) (2.14.0)\n",
            "Collecting python-multipart (from gradio)\n",
            "  Downloading python_multipart-0.0.6-py3-none-any.whl (45 kB)\n",
            "\u001b[2K     \u001b[90m━━━━━━━━━━━━━━━━━━━━━━━━━━━━━━━━━━━━━━━━\u001b[0m \u001b[32m45.7/45.7 kB\u001b[0m \u001b[31m5.7 MB/s\u001b[0m eta \u001b[36m0:00:00\u001b[0m\n",
            "\u001b[?25hRequirement already satisfied: pyyaml in /usr/local/lib/python3.10/dist-packages (from gradio) (6.0)\n",
            "Requirement already satisfied: requests in /usr/local/lib/python3.10/dist-packages (from gradio) (2.27.1)\n",
            "Collecting semantic-version (from gradio)\n",
            "  Downloading semantic_version-2.10.0-py2.py3-none-any.whl (15 kB)\n",
            "Collecting uvicorn>=0.14.0 (from gradio)\n",
            "  Downloading uvicorn-0.22.0-py3-none-any.whl (58 kB)\n",
            "\u001b[2K     \u001b[90m━━━━━━━━━━━━━━━━━━━━━━━━━━━━━━━━━━━━━━━━\u001b[0m \u001b[32m58.3/58.3 kB\u001b[0m \u001b[31m7.1 MB/s\u001b[0m eta \u001b[36m0:00:00\u001b[0m\n",
            "\u001b[?25hCollecting websockets>=10.0 (from gradio)\n",
            "  Downloading websockets-11.0.3-cp310-cp310-manylinux_2_5_x86_64.manylinux1_x86_64.manylinux_2_17_x86_64.manylinux2014_x86_64.whl (129 kB)\n",
            "\u001b[2K     \u001b[90m━━━━━━━━━━━━━━━━━━━━━━━━━━━━━━━━━━━━━━\u001b[0m \u001b[32m129.9/129.9 kB\u001b[0m \u001b[31m17.8 MB/s\u001b[0m eta \u001b[36m0:00:00\u001b[0m\n",
            "\u001b[?25hRequirement already satisfied: entrypoints in /usr/local/lib/python3.10/dist-packages (from altair>=4.2.0->gradio) (0.4)\n",
            "Requirement already satisfied: jsonschema>=3.0 in /usr/local/lib/python3.10/dist-packages (from altair>=4.2.0->gradio) (4.3.3)\n",
            "Requirement already satisfied: toolz in /usr/local/lib/python3.10/dist-packages (from altair>=4.2.0->gradio) (0.12.0)\n",
            "Requirement already satisfied: fsspec in /usr/local/lib/python3.10/dist-packages (from gradio-client>=0.2.7->gradio) (2023.6.0)\n",
            "Requirement already satisfied: packaging in /usr/local/lib/python3.10/dist-packages (from gradio-client>=0.2.7->gradio) (23.1)\n",
            "Requirement already satisfied: typing-extensions in /usr/local/lib/python3.10/dist-packages (from gradio-client>=0.2.7->gradio) (4.6.3)\n",
            "Requirement already satisfied: filelock in /usr/local/lib/python3.10/dist-packages (from huggingface-hub>=0.14.0->gradio) (3.12.2)\n",
            "Requirement already satisfied: tqdm>=4.42.1 in /usr/local/lib/python3.10/dist-packages (from huggingface-hub>=0.14.0->gradio) (4.65.0)\n",
            "Requirement already satisfied: mdurl~=0.1 in /usr/local/lib/python3.10/dist-packages (from markdown-it-py[linkify]>=2.0.0->gradio) (0.1.2)\n",
            "Collecting linkify-it-py<3,>=1 (from markdown-it-py[linkify]>=2.0.0->gradio)\n",
            "  Downloading linkify_it_py-2.0.2-py3-none-any.whl (19 kB)\n",
            "INFO: pip is looking at multiple versions of mdit-py-plugins to determine which version is compatible with other requirements. This could take a while.\n",
            "Collecting mdit-py-plugins<=0.3.3 (from gradio)\n",
            "  Downloading mdit_py_plugins-0.3.2-py3-none-any.whl (50 kB)\n",
            "\u001b[2K     \u001b[90m━━━━━━━━━━━━━━━━━━━━━━━━━━━━━━━━━━━━━━━━\u001b[0m \u001b[32m50.4/50.4 kB\u001b[0m \u001b[31m6.8 MB/s\u001b[0m eta \u001b[36m0:00:00\u001b[0m\n",
            "\u001b[?25h  Downloading mdit_py_plugins-0.3.1-py3-none-any.whl (46 kB)\n",
            "\u001b[2K     \u001b[90m━━━━━━━━━━━━━━━━━━━━━━━━━━━━━━━━━━━━━━━━\u001b[0m \u001b[32m46.5/46.5 kB\u001b[0m \u001b[31m5.9 MB/s\u001b[0m eta \u001b[36m0:00:00\u001b[0m\n",
            "\u001b[?25h  Downloading mdit_py_plugins-0.3.0-py3-none-any.whl (43 kB)\n",
            "\u001b[2K     \u001b[90m━━━━━━━━━━━━━━━━━━━━━━━━━━━━━━━━━━━━━━━━\u001b[0m \u001b[32m43.7/43.7 kB\u001b[0m \u001b[31m5.9 MB/s\u001b[0m eta \u001b[36m0:00:00\u001b[0m\n",
            "\u001b[?25h  Downloading mdit_py_plugins-0.2.8-py3-none-any.whl (41 kB)\n",
            "\u001b[2K     \u001b[90m━━━━━━━━━━━━━━━━━━━━━━━━━━━━━━━━━━━━━━━━\u001b[0m \u001b[32m41.0/41.0 kB\u001b[0m \u001b[31m4.9 MB/s\u001b[0m eta \u001b[36m0:00:00\u001b[0m\n",
            "\u001b[?25h  Downloading mdit_py_plugins-0.2.7-py3-none-any.whl (41 kB)\n",
            "\u001b[2K     \u001b[90m━━━━━━━━━━━━━━━━━━━━━━━━━━━━━━━━━━━━━━━━\u001b[0m \u001b[32m41.0/41.0 kB\u001b[0m \u001b[31m5.5 MB/s\u001b[0m eta \u001b[36m0:00:00\u001b[0m\n",
            "\u001b[?25h  Downloading mdit_py_plugins-0.2.6-py3-none-any.whl (39 kB)\n",
            "  Downloading mdit_py_plugins-0.2.5-py3-none-any.whl (39 kB)\n",
            "INFO: pip is looking at multiple versions of mdit-py-plugins to determine which version is compatible with other requirements. This could take a while.\n",
            "  Downloading mdit_py_plugins-0.2.4-py3-none-any.whl (39 kB)\n",
            "  Downloading mdit_py_plugins-0.2.3-py3-none-any.whl (39 kB)\n",
            "  Downloading mdit_py_plugins-0.2.2-py3-none-any.whl (39 kB)\n",
            "  Downloading mdit_py_plugins-0.2.1-py3-none-any.whl (38 kB)\n",
            "  Downloading mdit_py_plugins-0.2.0-py3-none-any.whl (38 kB)\n",
            "INFO: This is taking longer than usual. You might need to provide the dependency resolver with stricter constraints to reduce runtime. See https://pip.pypa.io/warnings/backtracking for guidance. If you want to abort this run, press Ctrl + C.\n",
            "  Downloading mdit_py_plugins-0.1.0-py3-none-any.whl (37 kB)\n",
            "Collecting markdown-it-py[linkify]>=2.0.0 (from gradio)\n",
            "  Downloading markdown_it_py-3.0.0-py3-none-any.whl (87 kB)\n",
            "\u001b[2K     \u001b[90m━━━━━━━━━━━━━━━━━━━━━━━━━━━━━━━━━━━━━━━━\u001b[0m \u001b[32m87.5/87.5 kB\u001b[0m \u001b[31m12.0 MB/s\u001b[0m eta \u001b[36m0:00:00\u001b[0m\n",
            "\u001b[?25h  Downloading markdown_it_py-2.2.0-py3-none-any.whl (84 kB)\n",
            "\u001b[2K     \u001b[90m━━━━━━━━━━━━━━━━━━━━━━━━━━━━━━━━━━━━━━━━\u001b[0m \u001b[32m84.5/84.5 kB\u001b[0m \u001b[31m10.5 MB/s\u001b[0m eta \u001b[36m0:00:00\u001b[0m\n",
            "\u001b[?25hRequirement already satisfied: python-dateutil>=2.8.1 in /usr/local/lib/python3.10/dist-packages (from pandas->gradio) (2.8.2)\n",
            "Requirement already satisfied: pytz>=2020.1 in /usr/local/lib/python3.10/dist-packages (from pandas->gradio) (2022.7.1)\n",
            "Requirement already satisfied: click>=7.0 in /usr/local/lib/python3.10/dist-packages (from uvicorn>=0.14.0->gradio) (8.1.3)\n",
            "Collecting h11>=0.8 (from uvicorn>=0.14.0->gradio)\n",
            "  Downloading h11-0.14.0-py3-none-any.whl (58 kB)\n",
            "\u001b[2K     \u001b[90m━━━━━━━━━━━━━━━━━━━━━━━━━━━━━━━━━━━━━━━━\u001b[0m \u001b[32m58.3/58.3 kB\u001b[0m \u001b[31m7.9 MB/s\u001b[0m eta \u001b[36m0:00:00\u001b[0m\n",
            "\u001b[?25hRequirement already satisfied: attrs>=17.3.0 in /usr/local/lib/python3.10/dist-packages (from aiohttp->gradio) (23.1.0)\n",
            "Requirement already satisfied: charset-normalizer<4.0,>=2.0 in /usr/local/lib/python3.10/dist-packages (from aiohttp->gradio) (2.0.12)\n",
            "Requirement already satisfied: multidict<7.0,>=4.5 in /usr/local/lib/python3.10/dist-packages (from aiohttp->gradio) (6.0.4)\n",
            "Requirement already satisfied: async-timeout<5.0,>=4.0.0a3 in /usr/local/lib/python3.10/dist-packages (from aiohttp->gradio) (4.0.2)\n",
            "Requirement already satisfied: yarl<2.0,>=1.0 in /usr/local/lib/python3.10/dist-packages (from aiohttp->gradio) (1.9.2)\n",
            "Requirement already satisfied: frozenlist>=1.1.1 in /usr/local/lib/python3.10/dist-packages (from aiohttp->gradio) (1.3.3)\n",
            "Requirement already satisfied: aiosignal>=1.1.2 in /usr/local/lib/python3.10/dist-packages (from aiohttp->gradio) (1.3.1)\n",
            "Collecting starlette<0.28.0,>=0.27.0 (from fastapi->gradio)\n",
            "  Downloading starlette-0.27.0-py3-none-any.whl (66 kB)\n",
            "\u001b[2K     \u001b[90m━━━━━━━━━━━━━━━━━━━━━━━━━━━━━━━━━━━━━━━━\u001b[0m \u001b[32m67.0/67.0 kB\u001b[0m \u001b[31m8.5 MB/s\u001b[0m eta \u001b[36m0:00:00\u001b[0m\n",
            "\u001b[?25hRequirement already satisfied: certifi in /usr/local/lib/python3.10/dist-packages (from httpx->gradio) (2023.5.7)\n",
            "Collecting httpcore<0.18.0,>=0.15.0 (from httpx->gradio)\n",
            "  Downloading httpcore-0.17.3-py3-none-any.whl (74 kB)\n",
            "\u001b[2K     \u001b[90m━━━━━━━━━━━━━━━━━━━━━━━━━━━━━━━━━━━━━━━━\u001b[0m \u001b[32m74.5/74.5 kB\u001b[0m \u001b[31m9.8 MB/s\u001b[0m eta \u001b[36m0:00:00\u001b[0m\n",
            "\u001b[?25hRequirement already satisfied: idna in /usr/local/lib/python3.10/dist-packages (from httpx->gradio) (3.4)\n",
            "Requirement already satisfied: sniffio in /usr/local/lib/python3.10/dist-packages (from httpx->gradio) (1.3.0)\n",
            "Requirement already satisfied: contourpy>=1.0.1 in /usr/local/lib/python3.10/dist-packages (from matplotlib->gradio) (1.1.0)\n",
            "Requirement already satisfied: cycler>=0.10 in /usr/local/lib/python3.10/dist-packages (from matplotlib->gradio) (0.11.0)\n",
            "Requirement already satisfied: fonttools>=4.22.0 in /usr/local/lib/python3.10/dist-packages (from matplotlib->gradio) (4.40.0)\n",
            "Requirement already satisfied: kiwisolver>=1.0.1 in /usr/local/lib/python3.10/dist-packages (from matplotlib->gradio) (1.4.4)\n",
            "Requirement already satisfied: pyparsing>=2.3.1 in /usr/local/lib/python3.10/dist-packages (from matplotlib->gradio) (3.1.0)\n",
            "Requirement already satisfied: urllib3<1.27,>=1.21.1 in /usr/local/lib/python3.10/dist-packages (from requests->gradio) (1.26.16)\n",
            "Requirement already satisfied: anyio<5.0,>=3.0 in /usr/local/lib/python3.10/dist-packages (from httpcore<0.18.0,>=0.15.0->httpx->gradio) (3.7.0)\n",
            "Requirement already satisfied: pyrsistent!=0.17.0,!=0.17.1,!=0.17.2,>=0.14.0 in /usr/local/lib/python3.10/dist-packages (from jsonschema>=3.0->altair>=4.2.0->gradio) (0.19.3)\n",
            "Collecting uc-micro-py (from linkify-it-py<3,>=1->markdown-it-py[linkify]>=2.0.0->gradio)\n",
            "  Downloading uc_micro_py-1.0.2-py3-none-any.whl (6.2 kB)\n",
            "Requirement already satisfied: six>=1.5 in /usr/local/lib/python3.10/dist-packages (from python-dateutil>=2.8.1->pandas->gradio) (1.16.0)\n",
            "Requirement already satisfied: exceptiongroup in /usr/local/lib/python3.10/dist-packages (from anyio<5.0,>=3.0->httpcore<0.18.0,>=0.15.0->httpx->gradio) (1.1.1)\n",
            "Building wheels for collected packages: ffmpy\n",
            "  Building wheel for ffmpy (setup.py) ... \u001b[?25l\u001b[?25hdone\n",
            "  Created wheel for ffmpy: filename=ffmpy-0.3.0-py3-none-any.whl size=4694 sha256=d42669304ee414d3d219d816fba1cd5e0a95751bcf724cba738d05cebebaea15\n",
            "  Stored in directory: /root/.cache/pip/wheels/0c/c2/0e/3b9c6845c6a4e35beb90910cc70d9ac9ab5d47402bd62af0df\n",
            "Successfully built ffmpy\n",
            "Installing collected packages: pydub, ffmpy, websockets, uc-micro-py, semantic-version, python-multipart, orjson, markdown-it-py, h11, aiofiles, uvicorn, starlette, mdit-py-plugins, linkify-it-py, huggingface-hub, httpcore, httpx, fastapi, gradio-client, gradio\n",
            "  Attempting uninstall: markdown-it-py\n",
            "    Found existing installation: markdown-it-py 3.0.0\n",
            "    Uninstalling markdown-it-py-3.0.0:\n",
            "      Successfully uninstalled markdown-it-py-3.0.0\n",
            "Successfully installed aiofiles-23.1.0 fastapi-0.99.1 ffmpy-0.3.0 gradio-3.36.0 gradio-client-0.2.7 h11-0.14.0 httpcore-0.17.3 httpx-0.24.1 huggingface-hub-0.16.2 linkify-it-py-2.0.2 markdown-it-py-2.2.0 mdit-py-plugins-0.3.3 orjson-3.9.1 pydub-0.25.1 python-multipart-0.0.6 semantic-version-2.10.0 starlette-0.27.0 uc-micro-py-1.0.2 uvicorn-0.22.0 websockets-11.0.3\n"
          ]
        }
      ],
      "source": [
        "!pip install gradio"
      ]
    },
    {
      "cell_type": "code",
      "execution_count": null,
      "metadata": {
        "id": "vUpytWGCLyEk"
      },
      "outputs": [],
      "source": [
        "import gradio as gr"
      ]
    },
    {
      "cell_type": "code",
      "execution_count": null,
      "metadata": {
        "id": "yhJpk9UsL8IU"
      },
      "outputs": [],
      "source": [
        "import pandas as pd\n",
        "import numpy as np\n",
        "import math\n",
        "import matplotlib.pyplot as plt\n",
        "from sklearn.preprocessing import MinMaxScaler\n",
        "from sklearn.metrics import mean_squared_error\n",
        "import tensorflow as tf\n",
        "from tensorflow.keras.models import Sequential\n",
        "from tensorflow.keras.layers import Dense\n",
        "from tensorflow.keras.layers import LSTM"
      ]
    },
    {
      "cell_type": "code",
      "execution_count": null,
      "metadata": {
        "id": "rLOacc77L_O2"
      },
      "outputs": [],
      "source": [
        "import yfinance as yf\n",
        "from statsmodels.tsa.seasonal import seasonal_decompose"
      ]
    },
    {
      "cell_type": "markdown",
      "source": [
        "#### To get more insight into what is done in this function, check out this notebook\n",
        "https://colab.research.google.com/drive/1vD_YPTJs29mKM_sNsQWgehWuwfVUJawd?usp=sharing"
      ],
      "metadata": {
        "id": "Nea8aJ4cPe-R"
      }
    },
    {
      "cell_type": "code",
      "execution_count": null,
      "metadata": {
        "id": "IG5DZOAXMA9h"
      },
      "outputs": [],
      "source": [
        "def get_ans(inp):\n",
        "  plt.close()\n",
        "  tickers = yf.Tickers(inp)\n",
        "  x = tickers.tickers[inp].history(period=\"15y\")\n",
        "  df = x\n",
        "  df.reset_index(inplace=True)\n",
        "  df1 = df.reset_index()['Close']\n",
        "  df['Date'] = pd.to_datetime(df['Date'])\n",
        "  scaler = MinMaxScaler(feature_range=(0, 1))\n",
        "  df1 = scaler.fit_transform(np.array(df1).reshape(-1, 1))\n",
        "  training_size = int(len(df1) * 0.65)\n",
        "  test_size = len(df1) - training_size\n",
        "  train_data, test_data = df1[0:training_size, :], df1[training_size:len(df1), :1]\n",
        "  def create_dataset(dataset, time_step=1):\n",
        "      dataX, dataY = [], []\n",
        "      for i in range(len(dataset) - time_step - 1):\n",
        "          a = dataset[i:(i + time_step), 0]\n",
        "          dataX.append(a)\n",
        "          dataY.append(dataset[i + time_step, 0])\n",
        "      return np.array(dataX), np.array(dataY)\n",
        "  time_step = 100\n",
        "  X_train, y_train = create_dataset(train_data, time_step)\n",
        "  X_test, ytest = create_dataset(test_data, time_step)\n",
        "\n",
        "  X_train = X_train.reshape(X_train.shape[0], X_train.shape[1], 1)\n",
        "  X_test = X_test.reshape(X_test.shape[0], X_test.shape[1], 1)\n",
        "  model = Sequential()\n",
        "  model.add(LSTM(50, return_sequences=True, input_shape=(100, 1)))\n",
        "  model.add(LSTM(50, return_sequences=True))\n",
        "  model.add(LSTM(50))\n",
        "  model.add(Dense(1))\n",
        "  model.compile(loss='mean_squared_error', optimizer='adam')\n",
        "  model.fit(X_train,y_train,validation_data=(X_test,ytest),epochs=2,batch_size=64,verbose=1)\n",
        "  train_predict=model.predict(X_train)\n",
        "  test_predict=model.predict(X_test)\n",
        "  train_predict=scaler.inverse_transform(train_predict)\n",
        "  test_predict=scaler.inverse_transform(test_predict)\n",
        "  look_back=100\n",
        "  trainPredictPlot = np.empty_like(df1)\n",
        "  trainPredictPlot[:, :] = np.nan\n",
        "  trainPredictPlot[look_back:len(train_predict)+look_back, :] = train_predict\n",
        "  # shift test predictions for plotting\n",
        "  testPredictPlot = np.empty_like(df1)\n",
        "  testPredictPlot[:, :] = np.nan\n",
        "  testPredictPlot[len(train_predict)+(look_back*2)+1:len(df1)-1, :] = test_predict\n",
        "  # plot baseline and predictions\n",
        "  plt.plot(scaler.inverse_transform(df1))\n",
        "  plt.plot(trainPredictPlot)\n",
        "  plt.plot(testPredictPlot)\n",
        "\n",
        "  x_input=test_data[341:].reshape(1,-1)\n",
        "  resize_var = x_input.size\n",
        "  temp_input=list(x_input)\n",
        "  temp_input=temp_input[0].tolist()\n",
        "  lst_output=[]\n",
        "  n_steps=100\n",
        "  i=0\n",
        "  while(i<30):\n",
        "\n",
        "      if(len(temp_input)>100):\n",
        "          #print(temp_input)\n",
        "          x_input=np.array(temp_input[1:])\n",
        "          # print(\"{} day input {}\".format(i,x_input))\n",
        "          x_input=x_input.reshape(1,-1)\n",
        "          x_input = x_input.reshape((1, x_input.size, 1))\n",
        "          #print(x_input)\n",
        "          yhat = model.predict(x_input, verbose=0)\n",
        "          # print(\"{} day output {}\".format(i,yhat))\n",
        "          temp_input.extend(yhat[0].tolist())\n",
        "          temp_input=temp_input[1:]\n",
        "          #print(temp_input)\n",
        "          lst_output.extend(yhat.tolist())\n",
        "          i=i+1\n",
        "      else:\n",
        "          x_input = x_input.reshape((1, n_steps,1))\n",
        "          yhat = model.predict(x_input, verbose=0)\n",
        "          # print(yhat[0])\n",
        "          temp_input.extend(yhat[0].tolist())\n",
        "          # print(len(temp_input))\n",
        "          lst_output.extend(yhat.tolist())\n",
        "          i=i+1\n",
        "\n",
        "  day_new=np.arange(1,101)\n",
        "  day_pred=np.arange(101,131)\n",
        "\n",
        "  df3=df1. tolist()\n",
        "  df3.extend (lst_output)\n",
        "  len_lis = len(lst_output)\n",
        "  df3=pd.DataFrame(df3, columns=['Values'])\n",
        "  df3['index']=range(1, len(df3) + 1)\n",
        "  lst_output = pd.DataFrame(lst_output, columns=[\"Values\"])\n",
        "  lst_output['index']=range(1, len(lst_output) + 1)\n",
        "  the_max = max(np.asarray(df['Open']))\n",
        "  df3['Values'] = [i * the_max for i in df3['Values']]\n",
        "  return plt, gr.update(visible=True,value=df, x=\"Date\",y=\"Open\", height=500, width=800),gr.update(visible=True,value=df[-300:], x=\"Date\",y=\"Open\", height=500, width=800),gr.update(visible=True,value=df[-30:], x=\"Date\",y=\"Open\", height=500, width=800), max(np.asarray(df['Open'])), min(np.asarray(df['Open'])), max(np.asarray(df['Open'])[-300:]), min(np.asarray(df['Open'][-300:])), max(np.asarray(df['Open'])[-30:]), min(np.asarray(df['Open'][-30:])), (max(np.asarray(df['Open']))) * (lst_output[\"Values\"][0]), gr.update(visible=True,value=lst_output, x=\"index\",y=\"Values\", height=500, width=800),  gr.update(visible=True,value=df3, x=\"index\",y=\"Values\", height=500, width=800),  gr.update(visible=True,value=df3[-300:], x=\"index\",y=\"Values\", height=500, width=800)"
      ]
    },
    {
      "cell_type": "markdown",
      "metadata": {
        "id": "ZZX-qkQlUwPL"
      },
      "source": []
    },
    {
      "cell_type": "code",
      "source": [
        "def get_seo(inp):\n",
        "  plt.close()\n",
        "  time_step = 100\n",
        "  tickers = yf.Tickers(inp)\n",
        "  x = tickers.tickers[inp].history(period=\"15y\")\n",
        "  df = x\n",
        "  df.reset_index(inplace=True)\n",
        "  df1 = df.reset_index()['Close']\n",
        "  df['Date'] = pd.to_datetime(df['Date'])\n",
        "  scaler = MinMaxScaler(feature_range=(0, 1))\n",
        "  df1 = scaler.fit_transform(np.array(df1).reshape(-1, 1))\n",
        "  def create_dataset(dataset, time_step=1):\n",
        "      dataX, dataY = [], []\n",
        "      for i in range(len(dataset) - time_step - 1):\n",
        "          a = dataset[i:(i + time_step), 0]\n",
        "          dataX.append(a)\n",
        "          dataY.append(dataset[i + time_step, 0])\n",
        "      return np.array(dataX), np.array(dataY)\n",
        "  X_train, y_train = create_dataset(df1, time_step)\n",
        "  decompose_result_mult = seasonal_decompose(X_train, model=\"additive\", period=time_step)\n",
        "  trend = decompose_result_mult.trend\n",
        "  seasonal = decompose_result_mult.seasonal\n",
        "  residual = decompose_result_mult.resid\n",
        "\n",
        "  z = [i[0] for i in trend]\n",
        "  z = pd.DataFrame(z, columns=['Values'])\n",
        "  z['index'] = range(1, len(z) + 1)\n",
        "\n",
        "  y = [i[0] for i in seasonal]\n",
        "  y = pd.DataFrame(y, columns=['Values'])\n",
        "  y['index'] = range(1, len(z) + 1)\n",
        "\n",
        "  a = [i[0] for i in residual]\n",
        "  a = pd.DataFrame(a, columns=['Values'])\n",
        "  a['index'] = range(1, len(a) + 1)\n",
        "\n",
        "  return gr.update(visible=True, value=z, x='index', y='Values', height=500, width=800), gr.update(visible=True, value=y[:100], x='index', y='Values', height=500, width=800), gr.update(visible=True, value=a, x='index', y='Values', height=500, width=800)\n",
        "\n"
      ],
      "metadata": {
        "id": "2n6pi9OIhiwI"
      },
      "execution_count": null,
      "outputs": []
    },
    {
      "cell_type": "code",
      "source": [
        "get_seo(\"GOOG\")"
      ],
      "metadata": {
        "colab": {
          "base_uri": "https://localhost:8080/"
        },
        "id": "bhfJoknNXXWv",
        "outputId": "fa83f68e-8e81-4567-9e5c-d8fc7107b4f2"
      },
      "execution_count": null,
      "outputs": [
        {
          "output_type": "execute_result",
          "data": {
            "text/plain": [
              "({'visible': True,\n",
              "  'value':       Values  index\n",
              "  0        NaN      1\n",
              "  1        NaN      2\n",
              "  2        NaN      3\n",
              "  3        NaN      4\n",
              "  4        NaN      5\n",
              "  ...      ...    ...\n",
              "  3670     NaN   3671\n",
              "  3671     NaN   3672\n",
              "  3672     NaN   3673\n",
              "  3673     NaN   3674\n",
              "  3674     NaN   3675\n",
              "  \n",
              "  [3675 rows x 2 columns],\n",
              "  'x': 'index',\n",
              "  'y': 'Values',\n",
              "  'height': 500,\n",
              "  'width': 800,\n",
              "  '__type__': 'generic_update'},\n",
              " {'visible': True,\n",
              "  'value':       Values  index\n",
              "  0  -0.002722      1\n",
              "  1  -0.003631      2\n",
              "  2  -0.002472      3\n",
              "  3  -0.004233      4\n",
              "  4  -0.003870      5\n",
              "  ..       ...    ...\n",
              "  95 -0.001733     96\n",
              "  96 -0.002959     97\n",
              "  97 -0.004007     98\n",
              "  98 -0.003667     99\n",
              "  99 -0.003228    100\n",
              "  \n",
              "  [100 rows x 2 columns],\n",
              "  'x': 'index',\n",
              "  'y': 'Values',\n",
              "  'height': 500,\n",
              "  'width': 800,\n",
              "  '__type__': 'generic_update'},\n",
              " {'visible': True,\n",
              "  'value':       Values  index\n",
              "  0        NaN      1\n",
              "  1        NaN      2\n",
              "  2        NaN      3\n",
              "  3        NaN      4\n",
              "  4        NaN      5\n",
              "  ...      ...    ...\n",
              "  3670     NaN   3671\n",
              "  3671     NaN   3672\n",
              "  3672     NaN   3673\n",
              "  3673     NaN   3674\n",
              "  3674     NaN   3675\n",
              "  \n",
              "  [3675 rows x 2 columns],\n",
              "  'x': 'index',\n",
              "  'y': 'Values',\n",
              "  'height': 500,\n",
              "  'width': 800,\n",
              "  '__type__': 'generic_update'})"
            ]
          },
          "metadata": {},
          "execution_count": 11
        }
      ]
    },
    {
      "cell_type": "code",
      "source": [
        "|def get_info(inp):\n",
        "  tickers = yf.Ticker(inp)\n",
        "  info = tickers.info\n",
        "  balance = tickers.balance_sheet\n",
        "\n",
        "  long_info= info['longBusinessSummary']\n",
        "  curr_rat = info['currentRatio']\n",
        "  quick_rat = info['quickRatio']\n",
        "  short_rat = info['shortRatio']\n",
        "  debt_eq = info['debtToEquity']\n",
        "  volume = info['volume']\n",
        "  market_cap = info['marketCap']\n",
        "  curr_price = info['currentPrice']\n",
        "  rev_per = info['revenuePerShare']\n",
        "\n",
        "\n",
        "\n",
        "\n",
        "\n",
        "  return long_info, curr_rat, quick_rat, short_rat, debt_eq, volume, market_cap, curr_price, rev_per"
      ],
      "metadata": {
        "id": "y5qkIjusTjpI"
      },
      "execution_count": null,
      "outputs": []
    },
    {
      "cell_type": "code",
      "source": [
        "# get_ans('AAPL')"
      ],
      "metadata": {
        "id": "FBU-ig-PcPtL"
      },
      "execution_count": null,
      "outputs": []
    },
    {
      "cell_type": "code",
      "source": [
        "def  get_balance(input):\n",
        "  tickers = yf.Tickers(input)\n",
        "  balance = tickers.balance_sheet\n",
        "  return balance[1]"
      ],
      "metadata": {
        "id": "a-0KVQmgYbAe"
      },
      "execution_count": null,
      "outputs": []
    },
    {
      "cell_type": "code",
      "execution_count": null,
      "metadata": {
        "id": "Y71I7pURMUr2",
        "colab": {
          "base_uri": "https://localhost:8080/"
        },
        "outputId": "9ab44f23-9b22-425d-886d-c0d23f5d588a"
      },
      "outputs": [
        {
          "output_type": "execute_result",
          "data": {
            "text/plain": [
              "('Tesla, Inc. designs, develops, manufactures, leases, and sells electric vehicles, and energy generation and storage systems in the United States, China, and internationally. It operates in two segments, Automotive, and Energy Generation and Storage. The Automotive segment offers electric vehicles, as well as sells automotive regulatory credits; and non-warranty after-sales vehicle, used vehicles, retail merchandise, and vehicle insurance services. This segment also provides sedans and sport utility vehicles through direct and used vehicle sales, a network of Tesla Superchargers, and in-app upgrades; purchase financing and leasing services; services for electric vehicles through its company-owned service locations and Tesla mobile service technicians; and vehicle limited warranties and extended service plans. The Energy Generation and Storage segment engages in the design, manufacture, installation, sale, and leasing of solar energy generation and energy storage products, and related services to residential, commercial, and industrial customers and utilities through its website, stores, and galleries, as well as through a network of channel partners; and provision of service and repairs to its energy product customers, including under warranty, as well as various financing options to its solar customers. The company was formerly known as Tesla Motors, Inc. and changed its name to Tesla, Inc. in February 2017. Tesla, Inc. was incorporated in 2003 and is headquartered in Austin, Texas.',\n",
              " 1.567,\n",
              " 0.932,\n",
              " 0.66,\n",
              " 11.321,\n",
              " 119547671,\n",
              " 876493537280,\n",
              " 276.54,\n",
              " 27.35)"
            ]
          },
          "metadata": {},
          "execution_count": 11
        }
      ],
      "source": [
        "get_info('TSLA')"
      ]
    },
    {
      "cell_type": "code",
      "execution_count": null,
      "metadata": {
        "colab": {
          "base_uri": "https://localhost:8080/",
          "height": 650
        },
        "id": "jdoO2XQpMYeb",
        "outputId": "c899c752-d4c0-43e2-c32a-8960e49a05f3"
      },
      "outputs": [
        {
          "output_type": "stream",
          "name": "stderr",
          "text": [
            "<ipython-input-8-7e88f9bfa821>:2: GradioDeprecationWarning: The `style` method is deprecated. Please set these arguments in the constructor instead.\n",
            "  with gr.Row().style(equal_height=True):\n"
          ]
        },
        {
          "output_type": "stream",
          "name": "stdout",
          "text": [
            "Colab notebook detected. To show errors in colab notebook, set debug=True in launch()\n",
            "Note: opening Chrome Inspector may crash demo inside Colab notebooks.\n",
            "\n",
            "To create a public link, set `share=True` in `launch()`.\n"
          ]
        },
        {
          "output_type": "display_data",
          "data": {
            "text/plain": [
              "<IPython.core.display.Javascript object>"
            ],
            "application/javascript": [
              "(async (port, path, width, height, cache, element) => {\n",
              "                        if (!google.colab.kernel.accessAllowed && !cache) {\n",
              "                            return;\n",
              "                        }\n",
              "                        element.appendChild(document.createTextNode(''));\n",
              "                        const url = await google.colab.kernel.proxyPort(port, {cache});\n",
              "\n",
              "                        const external_link = document.createElement('div');\n",
              "                        external_link.innerHTML = `\n",
              "                            <div style=\"font-family: monospace; margin-bottom: 0.5rem\">\n",
              "                                Running on <a href=${new URL(path, url).toString()} target=\"_blank\">\n",
              "                                    https://localhost:${port}${path}\n",
              "                                </a>\n",
              "                            </div>\n",
              "                        `;\n",
              "                        element.appendChild(external_link);\n",
              "\n",
              "                        const iframe = document.createElement('iframe');\n",
              "                        iframe.src = new URL(path, url).toString();\n",
              "                        iframe.height = height;\n",
              "                        iframe.allow = \"autoplay; camera; microphone; clipboard-read; clipboard-write;\"\n",
              "                        iframe.width = width;\n",
              "                        iframe.style.border = 0;\n",
              "                        element.appendChild(iframe);\n",
              "                    })(7860, \"/\", \"100%\", 500, false, window.element)"
            ]
          },
          "metadata": {}
        },
        {
          "output_type": "execute_result",
          "data": {
            "text/plain": []
          },
          "metadata": {},
          "execution_count": 8
        }
      ],
      "source": [
        "with gr.Blocks() as demo:\n",
        "  with gr.Row().style(equal_height=True):\n",
        "    with gr.Column():\n",
        "      gr.Markdown(\"<center><h1>Stock Analysis Tool<h1></center>\")\n",
        "      gr.Markdown(\"<center><h3>Give the Ticker of the company you want to analyse. We will provide complete insights on the given company.</h3></center>\")\n",
        "      gr.Markdown(\"<center>To get the ticker of the company, click <a href = 'https://finance.yahoo.com/lookup/'>here.</a></center>\")\n",
        "  with gr.Row():\n",
        "    with gr.Column():\n",
        "      Name_of_the_company = gr.Textbox(placeholder=\"eg, GOOG / MSFT / AAPL\", label=\"TICKER of the company\")\n",
        "      btn = gr.Button(\"ANALYSE\")\n",
        "      gr.Markdown(\"<center><h2>Analysis<h2></center>\")\n",
        "      gr.Markdown(\"<center><h3>Inportant Information</h3></center>\")\n",
        "      info1 = gr.Textbox()\n",
        "      gr.Markdown(\"<h4>Insightful Ratios</h4>\")\n",
        "      with gr.Row():\n",
        "        ratio1 = gr.Textbox(label='Current Ratio')\n",
        "        ratio2 = gr.Textbox(label='Quick Ratio')\n",
        "        ratio3 = gr.Textbox(label='Short Ratio')\n",
        "        ratio4 = gr.Textbox(label='Debt to Equity Ratio')\n",
        "\n",
        "      gr.Markdown(\"<center><h3>General Information</h3></center>\")\n",
        "      with gr.Row():\n",
        "        curr_price = gr.Textbox(label='Current Price of Stock')\n",
        "        rev_per = gr.Textbox(label='Revenue per Share')\n",
        "      vol = gr.Textbox(label='Volume')\n",
        "      mar_cap = gr.Textbox(label='Market Cap')\n",
        "\n",
        "      gr.Markdown(\"<h3>Regression Trends of Price<h3>\")\n",
        "      with gr.Tab(\"Overall Trend\"):\n",
        "        trend_g = gr.LinePlot(visible=False, label='Trend of stock over its lifetime', height=1000, width=1000)\n",
        "      with gr.Tab(\"Seasonal Trends\"):\n",
        "        Seaso = gr.LinePlot(visible=False,label=\"This is for one season\", height=1000, width=1000)\n",
        "      with gr.Tab(\"Residual Variation\"):\n",
        "        resid = gr.LinePlot(visible=False, label=\"Residual Variation over time\", height=1000, width=1000)\n",
        "\n",
        "\n",
        "      mp = gr.Plot()\n",
        "      gr.Markdown(\"<h3>Price over time<h3>\")\n",
        "      with gr.Tab(\"All Time\"):\n",
        "        mp1 = gr.LinePlot(visible=False, label=\"All time\", height=1000, width=1000)\n",
        "        with gr.Row():\n",
        "          Max_all = gr.Textbox(placeholder=\"The Maximum price the stock has ever reached\", label='Maximum of all time')\n",
        "          Min_all = gr.Textbox(placeholder=\"The Minimum price the stock has ever reached\", label=\"Minimum of all time\")\n",
        "      with gr.Tab(\"Past year\"):\n",
        "        mp2 = gr.LinePlot(visible=False, label=\"Last year\")\n",
        "        with gr.Row():\n",
        "          Max_year = gr.Textbox(placeholder=\"The Maximum price for the last year\", label='Maximum')\n",
        "          Min_year = gr.Textbox(placeholder=\"The Minimum price for the last year\", label=\"Minimum\")\n",
        "      with gr.Tab(\"Past few Days\"):\n",
        "\n",
        "        mp3 = gr.LinePlot(visible=False, label=\"Past few Days\")\n",
        "        with gr.Row():\n",
        "          Max_rec = gr.Textbox(placeholder=\"The Maximum price for the last few days\", label='Recent Maximum')\n",
        "          Min_rec = gr.Textbox(placeholder=\"The Minimum price for the last few days\", label=\"Recent Minimum\")\n",
        "      gr.Markdown(\"<center><h2>Predictive Analysis</h2></center>\")\n",
        "      Next_day = gr.Textbox(placeholder=\"Predicted price for tomorrow\", label=\"Predicted price for Tomorrow\")\n",
        "      Next_plot = gr.LinePlot(visible=False)\n",
        "      Next_plot_all = gr.LinePlot(visible=False)\n",
        "      Next_plot_year = gr.LinePlot(visible=False)\n",
        "\n",
        "\n",
        "      btn.click(get_ans, inputs=Name_of_the_company, outputs= [mp,mp1,mp2,mp3, Max_all, Min_all,Max_year, Min_year, Max_rec, Min_rec, Next_day, Next_plot, Next_plot_all, Next_plot_year])\n",
        "      btn.click(get_info, inputs=Name_of_the_company, outputs=[info1, ratio1, ratio2, ratio3, ratio4, vol, mar_cap, curr_price, rev_per])\n",
        "      btn.click(get_seo, inputs=Name_of_the_company, outputs=[trend_g, Seaso, resid])\n",
        "\n",
        "demo.launch()"
      ]
    },
    {
      "cell_type": "markdown",
      "source": [
        "## Everything below this point is not deployed, it was just for experimenting and stuff"
      ],
      "metadata": {
        "id": "A5qnaiGigJ_B"
      }
    },
    {
      "cell_type": "code",
      "execution_count": null,
      "metadata": {
        "id": "RR7sfkyfNvS8",
        "colab": {
          "base_uri": "https://localhost:8080/"
        },
        "outputId": "45c275c0-dfcf-4e64-f337-750cd131599f"
      },
      "outputs": [
        {
          "output_type": "stream",
          "name": "stdout",
          "text": [
            "dict_keys(['address1', 'city', 'state', 'zip', 'country', 'phone', 'website', 'industry', 'industryDisp', 'sector', 'longBusinessSummary', 'fullTimeEmployees', 'companyOfficers', 'auditRisk', 'boardRisk', 'compensationRisk', 'shareHolderRightsRisk', 'overallRisk', 'governanceEpochDate', 'compensationAsOfEpochDate', 'maxAge', 'priceHint', 'previousClose', 'open', 'dayLow', 'dayHigh', 'regularMarketPreviousClose', 'regularMarketOpen', 'regularMarketDayLow', 'regularMarketDayHigh', 'payoutRatio', 'beta', 'trailingPE', 'forwardPE', 'volume', 'regularMarketVolume', 'averageVolume', 'averageVolume10days', 'averageDailyVolume10Day', 'bid', 'ask', 'bidSize', 'askSize', 'marketCap', 'fiftyTwoWeekLow', 'fiftyTwoWeekHigh', 'priceToSalesTrailing12Months', 'fiftyDayAverage', 'twoHundredDayAverage', 'trailingAnnualDividendRate', 'trailingAnnualDividendYield', 'currency', 'enterpriseValue', 'profitMargins', 'floatShares', 'sharesOutstanding', 'sharesShort', 'sharesShortPriorMonth', 'sharesShortPreviousMonthDate', 'dateShortInterest', 'sharesPercentSharesOut', 'heldPercentInsiders', 'heldPercentInstitutions', 'shortRatio', 'shortPercentOfFloat', 'impliedSharesOutstanding', 'bookValue', 'priceToBook', 'lastFiscalYearEnd', 'nextFiscalYearEnd', 'mostRecentQuarter', 'earningsQuarterlyGrowth', 'netIncomeToCommon', 'trailingEps', 'forwardEps', 'pegRatio', 'lastSplitFactor', 'lastSplitDate', 'enterpriseToRevenue', 'enterpriseToEbitda', '52WeekChange', 'SandP52WeekChange', 'exchange', 'quoteType', 'symbol', 'underlyingSymbol', 'shortName', 'longName', 'firstTradeDateEpochUtc', 'timeZoneFullName', 'timeZoneShortName', 'uuid', 'messageBoardId', 'gmtOffSetMilliseconds', 'currentPrice', 'targetHighPrice', 'targetLowPrice', 'targetMeanPrice', 'targetMedianPrice', 'recommendationMean', 'recommendationKey', 'numberOfAnalystOpinions', 'totalCash', 'totalCashPerShare', 'ebitda', 'totalDebt', 'quickRatio', 'currentRatio', 'totalRevenue', 'debtToEquity', 'revenuePerShare', 'returnOnAssets', 'returnOnEquity', 'grossProfits', 'freeCashflow', 'operatingCashflow', 'earningsGrowth', 'revenueGrowth', 'grossMargins', 'ebitdaMargins', 'operatingMargins', 'financialCurrency', 'trailingPegRatio'])\n"
          ]
        }
      ],
      "source": [
        "tickers = yf.Ticker(\"TSLA\")\n",
        "print(tickers.info.keys())"
      ]
    },
    {
      "cell_type": "code",
      "source": [
        "tickers.actions"
      ],
      "metadata": {
        "colab": {
          "base_uri": "https://localhost:8080/",
          "height": 143
        },
        "id": "3FBCds5UUdjU",
        "outputId": "3c956438-99ad-438a-8786-57e9ea29d708"
      },
      "execution_count": null,
      "outputs": [
        {
          "output_type": "execute_result",
          "data": {
            "text/plain": [
              "                           Dividends  Stock Splits\n",
              "Date                                              \n",
              "2020-08-31 00:00:00-04:00        0.0           5.0\n",
              "2022-08-25 00:00:00-04:00        0.0           3.0"
            ],
            "text/html": [
              "\n",
              "  <div id=\"df-e0eca000-c329-45fc-8f4d-50b6dec8541e\">\n",
              "    <div class=\"colab-df-container\">\n",
              "      <div>\n",
              "<style scoped>\n",
              "    .dataframe tbody tr th:only-of-type {\n",
              "        vertical-align: middle;\n",
              "    }\n",
              "\n",
              "    .dataframe tbody tr th {\n",
              "        vertical-align: top;\n",
              "    }\n",
              "\n",
              "    .dataframe thead th {\n",
              "        text-align: right;\n",
              "    }\n",
              "</style>\n",
              "<table border=\"1\" class=\"dataframe\">\n",
              "  <thead>\n",
              "    <tr style=\"text-align: right;\">\n",
              "      <th></th>\n",
              "      <th>Dividends</th>\n",
              "      <th>Stock Splits</th>\n",
              "    </tr>\n",
              "    <tr>\n",
              "      <th>Date</th>\n",
              "      <th></th>\n",
              "      <th></th>\n",
              "    </tr>\n",
              "  </thead>\n",
              "  <tbody>\n",
              "    <tr>\n",
              "      <th>2020-08-31 00:00:00-04:00</th>\n",
              "      <td>0.0</td>\n",
              "      <td>5.0</td>\n",
              "    </tr>\n",
              "    <tr>\n",
              "      <th>2022-08-25 00:00:00-04:00</th>\n",
              "      <td>0.0</td>\n",
              "      <td>3.0</td>\n",
              "    </tr>\n",
              "  </tbody>\n",
              "</table>\n",
              "</div>\n",
              "      <button class=\"colab-df-convert\" onclick=\"convertToInteractive('df-e0eca000-c329-45fc-8f4d-50b6dec8541e')\"\n",
              "              title=\"Convert this dataframe to an interactive table.\"\n",
              "              style=\"display:none;\">\n",
              "        \n",
              "  <svg xmlns=\"http://www.w3.org/2000/svg\" height=\"24px\"viewBox=\"0 0 24 24\"\n",
              "       width=\"24px\">\n",
              "    <path d=\"M0 0h24v24H0V0z\" fill=\"none\"/>\n",
              "    <path d=\"M18.56 5.44l.94 2.06.94-2.06 2.06-.94-2.06-.94-.94-2.06-.94 2.06-2.06.94zm-11 1L8.5 8.5l.94-2.06 2.06-.94-2.06-.94L8.5 2.5l-.94 2.06-2.06.94zm10 10l.94 2.06.94-2.06 2.06-.94-2.06-.94-.94-2.06-.94 2.06-2.06.94z\"/><path d=\"M17.41 7.96l-1.37-1.37c-.4-.4-.92-.59-1.43-.59-.52 0-1.04.2-1.43.59L10.3 9.45l-7.72 7.72c-.78.78-.78 2.05 0 2.83L4 21.41c.39.39.9.59 1.41.59.51 0 1.02-.2 1.41-.59l7.78-7.78 2.81-2.81c.8-.78.8-2.07 0-2.86zM5.41 20L4 18.59l7.72-7.72 1.47 1.35L5.41 20z\"/>\n",
              "  </svg>\n",
              "      </button>\n",
              "      \n",
              "  <style>\n",
              "    .colab-df-container {\n",
              "      display:flex;\n",
              "      flex-wrap:wrap;\n",
              "      gap: 12px;\n",
              "    }\n",
              "\n",
              "    .colab-df-convert {\n",
              "      background-color: #E8F0FE;\n",
              "      border: none;\n",
              "      border-radius: 50%;\n",
              "      cursor: pointer;\n",
              "      display: none;\n",
              "      fill: #1967D2;\n",
              "      height: 32px;\n",
              "      padding: 0 0 0 0;\n",
              "      width: 32px;\n",
              "    }\n",
              "\n",
              "    .colab-df-convert:hover {\n",
              "      background-color: #E2EBFA;\n",
              "      box-shadow: 0px 1px 2px rgba(60, 64, 67, 0.3), 0px 1px 3px 1px rgba(60, 64, 67, 0.15);\n",
              "      fill: #174EA6;\n",
              "    }\n",
              "\n",
              "    [theme=dark] .colab-df-convert {\n",
              "      background-color: #3B4455;\n",
              "      fill: #D2E3FC;\n",
              "    }\n",
              "\n",
              "    [theme=dark] .colab-df-convert:hover {\n",
              "      background-color: #434B5C;\n",
              "      box-shadow: 0px 1px 3px 1px rgba(0, 0, 0, 0.15);\n",
              "      filter: drop-shadow(0px 1px 2px rgba(0, 0, 0, 0.3));\n",
              "      fill: #FFFFFF;\n",
              "    }\n",
              "  </style>\n",
              "\n",
              "      <script>\n",
              "        const buttonEl =\n",
              "          document.querySelector('#df-e0eca000-c329-45fc-8f4d-50b6dec8541e button.colab-df-convert');\n",
              "        buttonEl.style.display =\n",
              "          google.colab.kernel.accessAllowed ? 'block' : 'none';\n",
              "\n",
              "        async function convertToInteractive(key) {\n",
              "          const element = document.querySelector('#df-e0eca000-c329-45fc-8f4d-50b6dec8541e');\n",
              "          const dataTable =\n",
              "            await google.colab.kernel.invokeFunction('convertToInteractive',\n",
              "                                                     [key], {});\n",
              "          if (!dataTable) return;\n",
              "\n",
              "          const docLinkHtml = 'Like what you see? Visit the ' +\n",
              "            '<a target=\"_blank\" href=https://colab.research.google.com/notebooks/data_table.ipynb>data table notebook</a>'\n",
              "            + ' to learn more about interactive tables.';\n",
              "          element.innerHTML = '';\n",
              "          dataTable['output_type'] = 'display_data';\n",
              "          await google.colab.output.renderOutput(dataTable, element);\n",
              "          const docLink = document.createElement('div');\n",
              "          docLink.innerHTML = docLinkHtml;\n",
              "          element.appendChild(docLink);\n",
              "        }\n",
              "      </script>\n",
              "    </div>\n",
              "  </div>\n",
              "  "
            ]
          },
          "metadata": {},
          "execution_count": 14
        }
      ]
    },
    {
      "cell_type": "code",
      "source": [
        "tickers.dividends"
      ],
      "metadata": {
        "colab": {
          "base_uri": "https://localhost:8080/"
        },
        "id": "aL5yQXyXif_q",
        "outputId": "23ac3771-cb94-4174-b9f1-e8b110e762c7"
      },
      "execution_count": null,
      "outputs": [
        {
          "output_type": "execute_result",
          "data": {
            "text/plain": [
              "Series([], Name: Dividends, dtype: float64)"
            ]
          },
          "metadata": {},
          "execution_count": 15
        }
      ]
    },
    {
      "cell_type": "code",
      "source": [
        "tickers.splits"
      ],
      "metadata": {
        "colab": {
          "base_uri": "https://localhost:8080/"
        },
        "id": "-oUBrXeDimpU",
        "outputId": "759d01b5-f048-4026-b46d-6772e91741bd"
      },
      "execution_count": null,
      "outputs": [
        {
          "output_type": "execute_result",
          "data": {
            "text/plain": [
              "Date\n",
              "2020-08-31 00:00:00-04:00    5.0\n",
              "2022-08-25 00:00:00-04:00    3.0\n",
              "Name: Stock Splits, dtype: float64"
            ]
          },
          "metadata": {},
          "execution_count": 16
        }
      ]
    },
    {
      "cell_type": "code",
      "source": [
        "tickers.capital_gains"
      ],
      "metadata": {
        "colab": {
          "base_uri": "https://localhost:8080/"
        },
        "id": "o1-D8xvfnSQt",
        "outputId": "314f57ce-588e-4ed3-8983-d4c6827579ef"
      },
      "execution_count": null,
      "outputs": [
        {
          "output_type": "execute_result",
          "data": {
            "text/plain": [
              "[]"
            ]
          },
          "metadata": {},
          "execution_count": 17
        }
      ]
    },
    {
      "cell_type": "code",
      "source": [
        "# tickers.balance_sheet['2022-09-30']"
      ],
      "metadata": {
        "id": "HCEMVcrEnVDc"
      },
      "execution_count": null,
      "outputs": []
    },
    {
      "cell_type": "code",
      "source": [
        "tickers.info"
      ],
      "metadata": {
        "id": "lwVGjuFpnZeN",
        "colab": {
          "base_uri": "https://localhost:8080/"
        },
        "outputId": "4b07b46d-e6aa-4ac4-d26c-d1f81e64adf6"
      },
      "execution_count": null,
      "outputs": [
        {
          "output_type": "execute_result",
          "data": {
            "text/plain": [
              "{'address1': '1 Tesla Road',\n",
              " 'city': 'Austin',\n",
              " 'state': 'TX',\n",
              " 'zip': '78725',\n",
              " 'country': 'United States',\n",
              " 'phone': '512 516 8177',\n",
              " 'website': 'https://www.tesla.com',\n",
              " 'industry': 'Auto Manufacturers',\n",
              " 'industryDisp': 'Auto Manufacturers',\n",
              " 'sector': 'Consumer Cyclical',\n",
              " 'longBusinessSummary': 'Tesla, Inc. designs, develops, manufactures, leases, and sells electric vehicles, and energy generation and storage systems in the United States, China, and internationally. It operates in two segments, Automotive, and Energy Generation and Storage. The Automotive segment offers electric vehicles, as well as sells automotive regulatory credits; and non-warranty after-sales vehicle, used vehicles, retail merchandise, and vehicle insurance services. This segment also provides sedans and sport utility vehicles through direct and used vehicle sales, a network of Tesla Superchargers, and in-app upgrades; purchase financing and leasing services; services for electric vehicles through its company-owned service locations and Tesla mobile service technicians; and vehicle limited warranties and extended service plans. The Energy Generation and Storage segment engages in the design, manufacture, installation, sale, and leasing of solar energy generation and energy storage products, and related services to residential, commercial, and industrial customers and utilities through its website, stores, and galleries, as well as through a network of channel partners; and provision of service and repairs to its energy product customers, including under warranty, as well as various financing options to its solar customers. The company was formerly known as Tesla Motors, Inc. and changed its name to Tesla, Inc. in February 2017. Tesla, Inc. was incorporated in 2003 and is headquartered in Austin, Texas.',\n",
              " 'fullTimeEmployees': 127855,\n",
              " 'companyOfficers': [{'maxAge': 1,\n",
              "   'name': 'Mr. Elon R. Musk',\n",
              "   'age': 50,\n",
              "   'title': 'Technoking of Tesla, CEO & Director',\n",
              "   'yearBorn': 1972,\n",
              "   'fiscalYear': 2022,\n",
              "   'totalPay': 0,\n",
              "   'exercisedValue': 0,\n",
              "   'unexercisedValue': 27819718656},\n",
              "  {'maxAge': 1,\n",
              "   'name': 'Mr. Zachary John Planell Kirkhorn',\n",
              "   'age': 36,\n",
              "   'title': 'Master of Coin & CFO',\n",
              "   'yearBorn': 1986,\n",
              "   'fiscalYear': 2022,\n",
              "   'totalPay': 303000,\n",
              "   'exercisedValue': 1258505,\n",
              "   'unexercisedValue': 205700880},\n",
              "  {'maxAge': 1,\n",
              "   'name': 'Mr. Andrew D. Baglino',\n",
              "   'age': 41,\n",
              "   'title': 'Sr. VP of Powertrain & Energy Engineering',\n",
              "   'yearBorn': 1981,\n",
              "   'fiscalYear': 2022,\n",
              "   'totalPay': 303000,\n",
              "   'exercisedValue': 33866368,\n",
              "   'unexercisedValue': 57355632},\n",
              "  {'maxAge': 1,\n",
              "   'name': 'Mr. Vaibhav  Taneja',\n",
              "   'age': 44,\n",
              "   'title': 'Corp. Controller & Chief Accounting Officer',\n",
              "   'yearBorn': 1978,\n",
              "   'exercisedValue': 0,\n",
              "   'unexercisedValue': 0},\n",
              "  {'maxAge': 1,\n",
              "   'name': 'Mr. Martin  Viecha',\n",
              "   'title': 'Sr. Director for Investor Relations',\n",
              "   'exercisedValue': 0,\n",
              "   'unexercisedValue': 0},\n",
              "  {'maxAge': 1,\n",
              "   'name': 'Mr. Alan  Prescott',\n",
              "   'age': 43,\n",
              "   'title': 'VP of Legal',\n",
              "   'yearBorn': 1979,\n",
              "   'exercisedValue': 0,\n",
              "   'unexercisedValue': 0},\n",
              "  {'maxAge': 1,\n",
              "   'name': 'Mr. Dave  Arnold',\n",
              "   'title': 'Sr. Director of Global Communications',\n",
              "   'exercisedValue': 0,\n",
              "   'unexercisedValue': 0},\n",
              "  {'maxAge': 1,\n",
              "   'name': 'Brian  Scelfo',\n",
              "   'title': 'Sr. Director of Corp. Devel.',\n",
              "   'exercisedValue': 0,\n",
              "   'unexercisedValue': 0},\n",
              "  {'maxAge': 1,\n",
              "   'name': 'Mr. Jeffrey B. Straubel',\n",
              "   'age': 46,\n",
              "   'title': 'Independent Director',\n",
              "   'yearBorn': 1976,\n",
              "   'fiscalYear': 2018,\n",
              "   'exercisedValue': 0,\n",
              "   'unexercisedValue': 0},\n",
              "  {'maxAge': 1,\n",
              "   'name': 'Mr. Franz  von Holzhausen',\n",
              "   'title': 'Chief Designer',\n",
              "   'exercisedValue': 0,\n",
              "   'unexercisedValue': 0}],\n",
              " 'auditRisk': 8,\n",
              " 'boardRisk': 10,\n",
              " 'compensationRisk': 8,\n",
              " 'shareHolderRightsRisk': 9,\n",
              " 'overallRisk': 9,\n",
              " 'governanceEpochDate': 1688169600,\n",
              " 'compensationAsOfEpochDate': 1672444800,\n",
              " 'maxAge': 86400,\n",
              " 'priceHint': 2,\n",
              " 'previousClose': 282.48,\n",
              " 'open': 278.09,\n",
              " 'dayLow': 272.88,\n",
              " 'dayHigh': 279.97,\n",
              " 'regularMarketPreviousClose': 282.48,\n",
              " 'regularMarketOpen': 278.09,\n",
              " 'regularMarketDayLow': 272.88,\n",
              " 'regularMarketDayHigh': 279.97,\n",
              " 'payoutRatio': 0.0,\n",
              " 'beta': 2.081967,\n",
              " 'trailingPE': 73.547874,\n",
              " 'forwardPE': 57.492725,\n",
              " 'volume': 119547671,\n",
              " 'regularMarketVolume': 119547671,\n",
              " 'averageVolume': 138449963,\n",
              " 'averageVolume10days': 146328950,\n",
              " 'averageDailyVolume10Day': 146328950,\n",
              " 'bid': 274.62,\n",
              " 'ask': 274.65,\n",
              " 'bidSize': 1000,\n",
              " 'askSize': 1000,\n",
              " 'marketCap': 876493537280,\n",
              " 'fiftyTwoWeekLow': 101.81,\n",
              " 'fiftyTwoWeekHigh': 314.66666,\n",
              " 'priceToSalesTrailing12Months': 10.187639,\n",
              " 'fiftyDayAverage': 210.2648,\n",
              " 'twoHundredDayAverage': 194.2173,\n",
              " 'trailingAnnualDividendRate': 0.0,\n",
              " 'trailingAnnualDividendYield': 0.0,\n",
              " 'currency': 'USD',\n",
              " 'enterpriseValue': 871243710464,\n",
              " 'profitMargins': 0.13658,\n",
              " 'floatShares': 2709133801,\n",
              " 'sharesOutstanding': 3169499904,\n",
              " 'sharesShort': 96484129,\n",
              " 'sharesShortPriorMonth': 95153797,\n",
              " 'sharesShortPreviousMonthDate': 1684108800,\n",
              " 'dateShortInterest': 1686787200,\n",
              " 'sharesPercentSharesOut': 0.0304,\n",
              " 'heldPercentInsiders': 0.1306,\n",
              " 'heldPercentInstitutions': 0.44891,\n",
              " 'shortRatio': 0.66,\n",
              " 'shortPercentOfFloat': 0.035,\n",
              " 'impliedSharesOutstanding': 0,\n",
              " 'bookValue': 15.164,\n",
              " 'priceToBook': 18.236614,\n",
              " 'lastFiscalYearEnd': 1672444800,\n",
              " 'nextFiscalYearEnd': 1703980800,\n",
              " 'mostRecentQuarter': 1680220800,\n",
              " 'earningsQuarterlyGrowth': -0.243,\n",
              " 'netIncomeToCommon': 11788000256,\n",
              " 'trailingEps': 3.76,\n",
              " 'forwardEps': 4.81,\n",
              " 'pegRatio': 7.44,\n",
              " 'lastSplitFactor': '3:1',\n",
              " 'lastSplitDate': 1661385600,\n",
              " 'enterpriseToRevenue': 10.127,\n",
              " 'enterpriseToEbitda': 52.277,\n",
              " '52WeekChange': 10.279285,\n",
              " 'SandP52WeekChange': 13.135683,\n",
              " 'exchange': 'NMS',\n",
              " 'quoteType': 'EQUITY',\n",
              " 'symbol': 'TSLA',\n",
              " 'underlyingSymbol': 'TSLA',\n",
              " 'shortName': 'Tesla, Inc.',\n",
              " 'longName': 'Tesla, Inc.',\n",
              " 'firstTradeDateEpochUtc': 1277818200,\n",
              " 'timeZoneFullName': 'America/New_York',\n",
              " 'timeZoneShortName': 'EDT',\n",
              " 'uuid': 'ec367bc4-f92c-397c-ac81-bf7b43cffaf7',\n",
              " 'messageBoardId': 'finmb_27444752',\n",
              " 'gmtOffSetMilliseconds': -14400000,\n",
              " 'currentPrice': 276.54,\n",
              " 'targetHighPrice': 335.0,\n",
              " 'targetLowPrice': 24.33,\n",
              " 'targetMeanPrice': 205.67,\n",
              " 'targetMedianPrice': 210.0,\n",
              " 'recommendationMean': 2.7,\n",
              " 'recommendationKey': 'hold',\n",
              " 'numberOfAnalystOpinions': 35,\n",
              " 'totalCash': 22402000896,\n",
              " 'totalCashPerShare': 7.068,\n",
              " 'ebitda': 16666000384,\n",
              " 'totalDebt': 5574000128,\n",
              " 'quickRatio': 0.932,\n",
              " 'currentRatio': 1.567,\n",
              " 'totalRevenue': 86034997248,\n",
              " 'debtToEquity': 11.321,\n",
              " 'revenuePerShare': 27.35,\n",
              " 'returnOnAssets': 0.10428,\n",
              " 'returnOnEquity': 0.27991,\n",
              " 'grossProfits': 20853000000,\n",
              " 'freeCashflow': 2448250112,\n",
              " 'operatingCashflow': 13242000384,\n",
              " 'earningsGrowth': -0.232,\n",
              " 'revenueGrowth': 0.244,\n",
              " 'grossMargins': 0.23135,\n",
              " 'ebitdaMargins': 0.19371,\n",
              " 'operatingMargins': 0.14823,\n",
              " 'financialCurrency': 'USD',\n",
              " 'trailingPegRatio': 2.847}"
            ]
          },
          "metadata": {},
          "execution_count": 19
        }
      ]
    },
    {
      "cell_type": "code",
      "source": [
        "tickers.balance_sheet"
      ],
      "metadata": {
        "colab": {
          "base_uri": "https://localhost:8080/",
          "height": 423
        },
        "id": "YQ31dr_5qlbc",
        "outputId": "f0163429-e0ee-4f57-b146-b281833e5a6c"
      },
      "execution_count": null,
      "outputs": [
        {
          "output_type": "execute_result",
          "data": {
            "text/plain": [
              "                                                     2022-12-31  \\\n",
              "Ordinary Shares Number                             3164000000.0   \n",
              "Share Issued                                       3164000000.0   \n",
              "Net Debt                                                    NaN   \n",
              "Total Debt                                         3099000000.0   \n",
              "Tangible Book Value                               44111000000.0   \n",
              "...                                                         ...   \n",
              "Receivables                                        2952000000.0   \n",
              "Accounts Receivable                                2952000000.0   \n",
              "Cash Cash Equivalents And Short Term Investments  22185000000.0   \n",
              "Other Short Term Investments                       5932000000.0   \n",
              "Cash And Cash Equivalents                         22185000000.0   \n",
              "\n",
              "                                                     2021-12-31  \\\n",
              "Ordinary Shares Number                             3099000000.0   \n",
              "Share Issued                                       3099000000.0   \n",
              "Net Debt                                                    NaN   \n",
              "Total Debt                                         6834000000.0   \n",
              "Tangible Book Value                               28472000000.0   \n",
              "...                                                         ...   \n",
              "Receivables                                        1913000000.0   \n",
              "Accounts Receivable                                1913000000.0   \n",
              "Cash Cash Equivalents And Short Term Investments  17707000000.0   \n",
              "Other Short Term Investments                        131000000.0   \n",
              "Cash And Cash Equivalents                         17576000000.0   \n",
              "\n",
              "                                                     2020-12-31     2019-12-31  \n",
              "Ordinary Shares Number                             2880000000.0   2715931290.0  \n",
              "Share Issued                                       2880000000.0   2715931290.0  \n",
              "Net Debt                                                    NaN   7151000000.0  \n",
              "Total Debt                                        11739000000.0  13419000000.0  \n",
              "Tangible Book Value                               21705000000.0   6081000000.0  \n",
              "...                                                         ...            ...  \n",
              "Receivables                                        1886000000.0   1324000000.0  \n",
              "Accounts Receivable                                1886000000.0   1324000000.0  \n",
              "Cash Cash Equivalents And Short Term Investments  19384000000.0   6268000000.0  \n",
              "Other Short Term Investments                                NaN            NaN  \n",
              "Cash And Cash Equivalents                         19384000000.0   6268000000.0  \n",
              "\n",
              "[78 rows x 4 columns]"
            ],
            "text/html": [
              "\n",
              "  <div id=\"df-b394fbf9-6428-42e7-b1b8-79bf20959ab7\">\n",
              "    <div class=\"colab-df-container\">\n",
              "      <div>\n",
              "<style scoped>\n",
              "    .dataframe tbody tr th:only-of-type {\n",
              "        vertical-align: middle;\n",
              "    }\n",
              "\n",
              "    .dataframe tbody tr th {\n",
              "        vertical-align: top;\n",
              "    }\n",
              "\n",
              "    .dataframe thead th {\n",
              "        text-align: right;\n",
              "    }\n",
              "</style>\n",
              "<table border=\"1\" class=\"dataframe\">\n",
              "  <thead>\n",
              "    <tr style=\"text-align: right;\">\n",
              "      <th></th>\n",
              "      <th>2022-12-31</th>\n",
              "      <th>2021-12-31</th>\n",
              "      <th>2020-12-31</th>\n",
              "      <th>2019-12-31</th>\n",
              "    </tr>\n",
              "  </thead>\n",
              "  <tbody>\n",
              "    <tr>\n",
              "      <th>Ordinary Shares Number</th>\n",
              "      <td>3164000000.0</td>\n",
              "      <td>3099000000.0</td>\n",
              "      <td>2880000000.0</td>\n",
              "      <td>2715931290.0</td>\n",
              "    </tr>\n",
              "    <tr>\n",
              "      <th>Share Issued</th>\n",
              "      <td>3164000000.0</td>\n",
              "      <td>3099000000.0</td>\n",
              "      <td>2880000000.0</td>\n",
              "      <td>2715931290.0</td>\n",
              "    </tr>\n",
              "    <tr>\n",
              "      <th>Net Debt</th>\n",
              "      <td>NaN</td>\n",
              "      <td>NaN</td>\n",
              "      <td>NaN</td>\n",
              "      <td>7151000000.0</td>\n",
              "    </tr>\n",
              "    <tr>\n",
              "      <th>Total Debt</th>\n",
              "      <td>3099000000.0</td>\n",
              "      <td>6834000000.0</td>\n",
              "      <td>11739000000.0</td>\n",
              "      <td>13419000000.0</td>\n",
              "    </tr>\n",
              "    <tr>\n",
              "      <th>Tangible Book Value</th>\n",
              "      <td>44111000000.0</td>\n",
              "      <td>28472000000.0</td>\n",
              "      <td>21705000000.0</td>\n",
              "      <td>6081000000.0</td>\n",
              "    </tr>\n",
              "    <tr>\n",
              "      <th>...</th>\n",
              "      <td>...</td>\n",
              "      <td>...</td>\n",
              "      <td>...</td>\n",
              "      <td>...</td>\n",
              "    </tr>\n",
              "    <tr>\n",
              "      <th>Receivables</th>\n",
              "      <td>2952000000.0</td>\n",
              "      <td>1913000000.0</td>\n",
              "      <td>1886000000.0</td>\n",
              "      <td>1324000000.0</td>\n",
              "    </tr>\n",
              "    <tr>\n",
              "      <th>Accounts Receivable</th>\n",
              "      <td>2952000000.0</td>\n",
              "      <td>1913000000.0</td>\n",
              "      <td>1886000000.0</td>\n",
              "      <td>1324000000.0</td>\n",
              "    </tr>\n",
              "    <tr>\n",
              "      <th>Cash Cash Equivalents And Short Term Investments</th>\n",
              "      <td>22185000000.0</td>\n",
              "      <td>17707000000.0</td>\n",
              "      <td>19384000000.0</td>\n",
              "      <td>6268000000.0</td>\n",
              "    </tr>\n",
              "    <tr>\n",
              "      <th>Other Short Term Investments</th>\n",
              "      <td>5932000000.0</td>\n",
              "      <td>131000000.0</td>\n",
              "      <td>NaN</td>\n",
              "      <td>NaN</td>\n",
              "    </tr>\n",
              "    <tr>\n",
              "      <th>Cash And Cash Equivalents</th>\n",
              "      <td>22185000000.0</td>\n",
              "      <td>17576000000.0</td>\n",
              "      <td>19384000000.0</td>\n",
              "      <td>6268000000.0</td>\n",
              "    </tr>\n",
              "  </tbody>\n",
              "</table>\n",
              "<p>78 rows × 4 columns</p>\n",
              "</div>\n",
              "      <button class=\"colab-df-convert\" onclick=\"convertToInteractive('df-b394fbf9-6428-42e7-b1b8-79bf20959ab7')\"\n",
              "              title=\"Convert this dataframe to an interactive table.\"\n",
              "              style=\"display:none;\">\n",
              "        \n",
              "  <svg xmlns=\"http://www.w3.org/2000/svg\" height=\"24px\"viewBox=\"0 0 24 24\"\n",
              "       width=\"24px\">\n",
              "    <path d=\"M0 0h24v24H0V0z\" fill=\"none\"/>\n",
              "    <path d=\"M18.56 5.44l.94 2.06.94-2.06 2.06-.94-2.06-.94-.94-2.06-.94 2.06-2.06.94zm-11 1L8.5 8.5l.94-2.06 2.06-.94-2.06-.94L8.5 2.5l-.94 2.06-2.06.94zm10 10l.94 2.06.94-2.06 2.06-.94-2.06-.94-.94-2.06-.94 2.06-2.06.94z\"/><path d=\"M17.41 7.96l-1.37-1.37c-.4-.4-.92-.59-1.43-.59-.52 0-1.04.2-1.43.59L10.3 9.45l-7.72 7.72c-.78.78-.78 2.05 0 2.83L4 21.41c.39.39.9.59 1.41.59.51 0 1.02-.2 1.41-.59l7.78-7.78 2.81-2.81c.8-.78.8-2.07 0-2.86zM5.41 20L4 18.59l7.72-7.72 1.47 1.35L5.41 20z\"/>\n",
              "  </svg>\n",
              "      </button>\n",
              "      \n",
              "  <style>\n",
              "    .colab-df-container {\n",
              "      display:flex;\n",
              "      flex-wrap:wrap;\n",
              "      gap: 12px;\n",
              "    }\n",
              "\n",
              "    .colab-df-convert {\n",
              "      background-color: #E8F0FE;\n",
              "      border: none;\n",
              "      border-radius: 50%;\n",
              "      cursor: pointer;\n",
              "      display: none;\n",
              "      fill: #1967D2;\n",
              "      height: 32px;\n",
              "      padding: 0 0 0 0;\n",
              "      width: 32px;\n",
              "    }\n",
              "\n",
              "    .colab-df-convert:hover {\n",
              "      background-color: #E2EBFA;\n",
              "      box-shadow: 0px 1px 2px rgba(60, 64, 67, 0.3), 0px 1px 3px 1px rgba(60, 64, 67, 0.15);\n",
              "      fill: #174EA6;\n",
              "    }\n",
              "\n",
              "    [theme=dark] .colab-df-convert {\n",
              "      background-color: #3B4455;\n",
              "      fill: #D2E3FC;\n",
              "    }\n",
              "\n",
              "    [theme=dark] .colab-df-convert:hover {\n",
              "      background-color: #434B5C;\n",
              "      box-shadow: 0px 1px 3px 1px rgba(0, 0, 0, 0.15);\n",
              "      filter: drop-shadow(0px 1px 2px rgba(0, 0, 0, 0.3));\n",
              "      fill: #FFFFFF;\n",
              "    }\n",
              "  </style>\n",
              "\n",
              "      <script>\n",
              "        const buttonEl =\n",
              "          document.querySelector('#df-b394fbf9-6428-42e7-b1b8-79bf20959ab7 button.colab-df-convert');\n",
              "        buttonEl.style.display =\n",
              "          google.colab.kernel.accessAllowed ? 'block' : 'none';\n",
              "\n",
              "        async function convertToInteractive(key) {\n",
              "          const element = document.querySelector('#df-b394fbf9-6428-42e7-b1b8-79bf20959ab7');\n",
              "          const dataTable =\n",
              "            await google.colab.kernel.invokeFunction('convertToInteractive',\n",
              "                                                     [key], {});\n",
              "          if (!dataTable) return;\n",
              "\n",
              "          const docLinkHtml = 'Like what you see? Visit the ' +\n",
              "            '<a target=\"_blank\" href=https://colab.research.google.com/notebooks/data_table.ipynb>data table notebook</a>'\n",
              "            + ' to learn more about interactive tables.';\n",
              "          element.innerHTML = '';\n",
              "          dataTable['output_type'] = 'display_data';\n",
              "          await google.colab.output.renderOutput(dataTable, element);\n",
              "          const docLink = document.createElement('div');\n",
              "          docLink.innerHTML = docLinkHtml;\n",
              "          element.appendChild(docLink);\n",
              "        }\n",
              "      </script>\n",
              "    </div>\n",
              "  </div>\n",
              "  "
            ]
          },
          "metadata": {},
          "execution_count": 20
        }
      ]
    },
    {
      "cell_type": "code",
      "source": [
        "tickers.info['currentRatio']"
      ],
      "metadata": {
        "id": "LaQoqkvLqsha",
        "colab": {
          "base_uri": "https://localhost:8080/"
        },
        "outputId": "484ef71b-b00f-42c9-f88b-4b0c22d034e0"
      },
      "execution_count": null,
      "outputs": [
        {
          "output_type": "execute_result",
          "data": {
            "text/plain": [
              "1.567"
            ]
          },
          "metadata": {},
          "execution_count": 21
        }
      ]
    },
    {
      "cell_type": "code",
      "source": [
        "df = tickers.history(period='15y')"
      ],
      "metadata": {
        "id": "FrgP4IkhSWMW"
      },
      "execution_count": null,
      "outputs": []
    },
    {
      "cell_type": "code",
      "source": [
        "df"
      ],
      "metadata": {
        "colab": {
          "base_uri": "https://localhost:8080/",
          "height": 455
        },
        "id": "bPAUTF3K73gB",
        "outputId": "37c3a115-673e-46c8-85d4-48dc2a03b4c7"
      },
      "execution_count": null,
      "outputs": [
        {
          "output_type": "execute_result",
          "data": {
            "text/plain": [
              "                                 Open        High         Low       Close  \\\n",
              "Date                                                                        \n",
              "2010-06-29 00:00:00-04:00    1.266667    1.666667    1.169333    1.592667   \n",
              "2010-06-30 00:00:00-04:00    1.719333    2.028000    1.553333    1.588667   \n",
              "2010-07-01 00:00:00-04:00    1.666667    1.728000    1.351333    1.464000   \n",
              "2010-07-02 00:00:00-04:00    1.533333    1.540000    1.247333    1.280000   \n",
              "2010-07-06 00:00:00-04:00    1.333333    1.333333    1.055333    1.074000   \n",
              "...                               ...         ...         ...         ...   \n",
              "2023-06-29 00:00:00-04:00  258.029999  260.739990  253.610001  257.500000   \n",
              "2023-06-30 00:00:00-04:00  260.600006  264.450012  259.890015  261.769989   \n",
              "2023-07-03 00:00:00-04:00  276.489990  284.250000  275.109985  279.820007   \n",
              "2023-07-05 00:00:00-04:00  278.820007  283.850006  277.600006  282.480011   \n",
              "2023-07-06 00:00:00-04:00  278.089996  279.970001  272.880005  276.540009   \n",
              "\n",
              "                              Volume  Dividends  Stock Splits  \n",
              "Date                                                           \n",
              "2010-06-29 00:00:00-04:00  281494500        0.0           0.0  \n",
              "2010-06-30 00:00:00-04:00  257806500        0.0           0.0  \n",
              "2010-07-01 00:00:00-04:00  123282000        0.0           0.0  \n",
              "2010-07-02 00:00:00-04:00   77097000        0.0           0.0  \n",
              "2010-07-06 00:00:00-04:00  103003500        0.0           0.0  \n",
              "...                              ...        ...           ...  \n",
              "2023-06-29 00:00:00-04:00  131283400        0.0           0.0  \n",
              "2023-06-30 00:00:00-04:00  112267600        0.0           0.0  \n",
              "2023-07-03 00:00:00-04:00  119685900        0.0           0.0  \n",
              "2023-07-05 00:00:00-04:00  131530900        0.0           0.0  \n",
              "2023-07-06 00:00:00-04:00  120332100        0.0           0.0  \n",
              "\n",
              "[3277 rows x 7 columns]"
            ],
            "text/html": [
              "\n",
              "  <div id=\"df-9a42bc0a-86af-4dc8-a417-8cccc7a9b47c\">\n",
              "    <div class=\"colab-df-container\">\n",
              "      <div>\n",
              "<style scoped>\n",
              "    .dataframe tbody tr th:only-of-type {\n",
              "        vertical-align: middle;\n",
              "    }\n",
              "\n",
              "    .dataframe tbody tr th {\n",
              "        vertical-align: top;\n",
              "    }\n",
              "\n",
              "    .dataframe thead th {\n",
              "        text-align: right;\n",
              "    }\n",
              "</style>\n",
              "<table border=\"1\" class=\"dataframe\">\n",
              "  <thead>\n",
              "    <tr style=\"text-align: right;\">\n",
              "      <th></th>\n",
              "      <th>Open</th>\n",
              "      <th>High</th>\n",
              "      <th>Low</th>\n",
              "      <th>Close</th>\n",
              "      <th>Volume</th>\n",
              "      <th>Dividends</th>\n",
              "      <th>Stock Splits</th>\n",
              "    </tr>\n",
              "    <tr>\n",
              "      <th>Date</th>\n",
              "      <th></th>\n",
              "      <th></th>\n",
              "      <th></th>\n",
              "      <th></th>\n",
              "      <th></th>\n",
              "      <th></th>\n",
              "      <th></th>\n",
              "    </tr>\n",
              "  </thead>\n",
              "  <tbody>\n",
              "    <tr>\n",
              "      <th>2010-06-29 00:00:00-04:00</th>\n",
              "      <td>1.266667</td>\n",
              "      <td>1.666667</td>\n",
              "      <td>1.169333</td>\n",
              "      <td>1.592667</td>\n",
              "      <td>281494500</td>\n",
              "      <td>0.0</td>\n",
              "      <td>0.0</td>\n",
              "    </tr>\n",
              "    <tr>\n",
              "      <th>2010-06-30 00:00:00-04:00</th>\n",
              "      <td>1.719333</td>\n",
              "      <td>2.028000</td>\n",
              "      <td>1.553333</td>\n",
              "      <td>1.588667</td>\n",
              "      <td>257806500</td>\n",
              "      <td>0.0</td>\n",
              "      <td>0.0</td>\n",
              "    </tr>\n",
              "    <tr>\n",
              "      <th>2010-07-01 00:00:00-04:00</th>\n",
              "      <td>1.666667</td>\n",
              "      <td>1.728000</td>\n",
              "      <td>1.351333</td>\n",
              "      <td>1.464000</td>\n",
              "      <td>123282000</td>\n",
              "      <td>0.0</td>\n",
              "      <td>0.0</td>\n",
              "    </tr>\n",
              "    <tr>\n",
              "      <th>2010-07-02 00:00:00-04:00</th>\n",
              "      <td>1.533333</td>\n",
              "      <td>1.540000</td>\n",
              "      <td>1.247333</td>\n",
              "      <td>1.280000</td>\n",
              "      <td>77097000</td>\n",
              "      <td>0.0</td>\n",
              "      <td>0.0</td>\n",
              "    </tr>\n",
              "    <tr>\n",
              "      <th>2010-07-06 00:00:00-04:00</th>\n",
              "      <td>1.333333</td>\n",
              "      <td>1.333333</td>\n",
              "      <td>1.055333</td>\n",
              "      <td>1.074000</td>\n",
              "      <td>103003500</td>\n",
              "      <td>0.0</td>\n",
              "      <td>0.0</td>\n",
              "    </tr>\n",
              "    <tr>\n",
              "      <th>...</th>\n",
              "      <td>...</td>\n",
              "      <td>...</td>\n",
              "      <td>...</td>\n",
              "      <td>...</td>\n",
              "      <td>...</td>\n",
              "      <td>...</td>\n",
              "      <td>...</td>\n",
              "    </tr>\n",
              "    <tr>\n",
              "      <th>2023-06-29 00:00:00-04:00</th>\n",
              "      <td>258.029999</td>\n",
              "      <td>260.739990</td>\n",
              "      <td>253.610001</td>\n",
              "      <td>257.500000</td>\n",
              "      <td>131283400</td>\n",
              "      <td>0.0</td>\n",
              "      <td>0.0</td>\n",
              "    </tr>\n",
              "    <tr>\n",
              "      <th>2023-06-30 00:00:00-04:00</th>\n",
              "      <td>260.600006</td>\n",
              "      <td>264.450012</td>\n",
              "      <td>259.890015</td>\n",
              "      <td>261.769989</td>\n",
              "      <td>112267600</td>\n",
              "      <td>0.0</td>\n",
              "      <td>0.0</td>\n",
              "    </tr>\n",
              "    <tr>\n",
              "      <th>2023-07-03 00:00:00-04:00</th>\n",
              "      <td>276.489990</td>\n",
              "      <td>284.250000</td>\n",
              "      <td>275.109985</td>\n",
              "      <td>279.820007</td>\n",
              "      <td>119685900</td>\n",
              "      <td>0.0</td>\n",
              "      <td>0.0</td>\n",
              "    </tr>\n",
              "    <tr>\n",
              "      <th>2023-07-05 00:00:00-04:00</th>\n",
              "      <td>278.820007</td>\n",
              "      <td>283.850006</td>\n",
              "      <td>277.600006</td>\n",
              "      <td>282.480011</td>\n",
              "      <td>131530900</td>\n",
              "      <td>0.0</td>\n",
              "      <td>0.0</td>\n",
              "    </tr>\n",
              "    <tr>\n",
              "      <th>2023-07-06 00:00:00-04:00</th>\n",
              "      <td>278.089996</td>\n",
              "      <td>279.970001</td>\n",
              "      <td>272.880005</td>\n",
              "      <td>276.540009</td>\n",
              "      <td>120332100</td>\n",
              "      <td>0.0</td>\n",
              "      <td>0.0</td>\n",
              "    </tr>\n",
              "  </tbody>\n",
              "</table>\n",
              "<p>3277 rows × 7 columns</p>\n",
              "</div>\n",
              "      <button class=\"colab-df-convert\" onclick=\"convertToInteractive('df-9a42bc0a-86af-4dc8-a417-8cccc7a9b47c')\"\n",
              "              title=\"Convert this dataframe to an interactive table.\"\n",
              "              style=\"display:none;\">\n",
              "        \n",
              "  <svg xmlns=\"http://www.w3.org/2000/svg\" height=\"24px\"viewBox=\"0 0 24 24\"\n",
              "       width=\"24px\">\n",
              "    <path d=\"M0 0h24v24H0V0z\" fill=\"none\"/>\n",
              "    <path d=\"M18.56 5.44l.94 2.06.94-2.06 2.06-.94-2.06-.94-.94-2.06-.94 2.06-2.06.94zm-11 1L8.5 8.5l.94-2.06 2.06-.94-2.06-.94L8.5 2.5l-.94 2.06-2.06.94zm10 10l.94 2.06.94-2.06 2.06-.94-2.06-.94-.94-2.06-.94 2.06-2.06.94z\"/><path d=\"M17.41 7.96l-1.37-1.37c-.4-.4-.92-.59-1.43-.59-.52 0-1.04.2-1.43.59L10.3 9.45l-7.72 7.72c-.78.78-.78 2.05 0 2.83L4 21.41c.39.39.9.59 1.41.59.51 0 1.02-.2 1.41-.59l7.78-7.78 2.81-2.81c.8-.78.8-2.07 0-2.86zM5.41 20L4 18.59l7.72-7.72 1.47 1.35L5.41 20z\"/>\n",
              "  </svg>\n",
              "      </button>\n",
              "      \n",
              "  <style>\n",
              "    .colab-df-container {\n",
              "      display:flex;\n",
              "      flex-wrap:wrap;\n",
              "      gap: 12px;\n",
              "    }\n",
              "\n",
              "    .colab-df-convert {\n",
              "      background-color: #E8F0FE;\n",
              "      border: none;\n",
              "      border-radius: 50%;\n",
              "      cursor: pointer;\n",
              "      display: none;\n",
              "      fill: #1967D2;\n",
              "      height: 32px;\n",
              "      padding: 0 0 0 0;\n",
              "      width: 32px;\n",
              "    }\n",
              "\n",
              "    .colab-df-convert:hover {\n",
              "      background-color: #E2EBFA;\n",
              "      box-shadow: 0px 1px 2px rgba(60, 64, 67, 0.3), 0px 1px 3px 1px rgba(60, 64, 67, 0.15);\n",
              "      fill: #174EA6;\n",
              "    }\n",
              "\n",
              "    [theme=dark] .colab-df-convert {\n",
              "      background-color: #3B4455;\n",
              "      fill: #D2E3FC;\n",
              "    }\n",
              "\n",
              "    [theme=dark] .colab-df-convert:hover {\n",
              "      background-color: #434B5C;\n",
              "      box-shadow: 0px 1px 3px 1px rgba(0, 0, 0, 0.15);\n",
              "      filter: drop-shadow(0px 1px 2px rgba(0, 0, 0, 0.3));\n",
              "      fill: #FFFFFF;\n",
              "    }\n",
              "  </style>\n",
              "\n",
              "      <script>\n",
              "        const buttonEl =\n",
              "          document.querySelector('#df-9a42bc0a-86af-4dc8-a417-8cccc7a9b47c button.colab-df-convert');\n",
              "        buttonEl.style.display =\n",
              "          google.colab.kernel.accessAllowed ? 'block' : 'none';\n",
              "\n",
              "        async function convertToInteractive(key) {\n",
              "          const element = document.querySelector('#df-9a42bc0a-86af-4dc8-a417-8cccc7a9b47c');\n",
              "          const dataTable =\n",
              "            await google.colab.kernel.invokeFunction('convertToInteractive',\n",
              "                                                     [key], {});\n",
              "          if (!dataTable) return;\n",
              "\n",
              "          const docLinkHtml = 'Like what you see? Visit the ' +\n",
              "            '<a target=\"_blank\" href=https://colab.research.google.com/notebooks/data_table.ipynb>data table notebook</a>'\n",
              "            + ' to learn more about interactive tables.';\n",
              "          element.innerHTML = '';\n",
              "          dataTable['output_type'] = 'display_data';\n",
              "          await google.colab.output.renderOutput(dataTable, element);\n",
              "          const docLink = document.createElement('div');\n",
              "          docLink.innerHTML = docLinkHtml;\n",
              "          element.appendChild(docLink);\n",
              "        }\n",
              "      </script>\n",
              "    </div>\n",
              "  </div>\n",
              "  "
            ]
          },
          "metadata": {},
          "execution_count": 23
        }
      ]
    },
    {
      "cell_type": "code",
      "source": [
        "from statsmodels.tsa.seasonal import seasonal_decompose"
      ],
      "metadata": {
        "id": "ehZiFu6174d6"
      },
      "execution_count": null,
      "outputs": []
    },
    {
      "cell_type": "code",
      "source": [
        "df.reset_index(inplace=True)\n",
        "df1 = df.reset_index()['Close']\n",
        "df['Date'] = pd.to_datetime(df['Date'])\n",
        "scaler = MinMaxScaler(feature_range=(0, 1))\n",
        "df1 = scaler.fit_transform(np.array(df1).reshape(-1, 1))\n",
        "def create_dataset(dataset, time_step=1):\n",
        "    dataX, dataY = [], []\n",
        "    for i in range(len(dataset) - time_step - 1):\n",
        "        a = dataset[i:(i + time_step), 0]\n",
        "        dataX.append(a)\n",
        "        dataY.append(dataset[i + time_step, 0])\n",
        "    return np.array(dataX), np.array(dataY)\n",
        "time_step = 100\n",
        "X_train, y_train = create_dataset(df1, time_step)"
      ],
      "metadata": {
        "id": "Hz82UCj78oZD"
      },
      "execution_count": null,
      "outputs": []
    },
    {
      "cell_type": "code",
      "source": [],
      "metadata": {
        "id": "c_DqZlMu8oVj"
      },
      "execution_count": null,
      "outputs": []
    },
    {
      "cell_type": "code",
      "source": [],
      "metadata": {
        "id": "M7KDEIzZ8oSt"
      },
      "execution_count": null,
      "outputs": []
    },
    {
      "cell_type": "code",
      "source": [],
      "metadata": {
        "id": "wOwBzA_e8oQP"
      },
      "execution_count": null,
      "outputs": []
    },
    {
      "cell_type": "code",
      "source": [
        "decompose_result_mult = seasonal_decompose(X_train, model=\"additive\", period=200)"
      ],
      "metadata": {
        "id": "XURTEOme76Ur"
      },
      "execution_count": null,
      "outputs": []
    },
    {
      "cell_type": "code",
      "source": [
        "trend = decompose_result_mult.trend\n",
        "seasonal = decompose_result_mult.seasonal\n",
        "residual = decompose_result_mult.resid"
      ],
      "metadata": {
        "id": "mnXB6pw88KIx"
      },
      "execution_count": null,
      "outputs": []
    },
    {
      "cell_type": "code",
      "source": [
        "z = [i[0] for i in trend]"
      ],
      "metadata": {
        "id": "-_WuNZ849G-p"
      },
      "execution_count": null,
      "outputs": []
    },
    {
      "cell_type": "code",
      "source": [
        "plt.plot(z)"
      ],
      "metadata": {
        "colab": {
          "base_uri": "https://localhost:8080/",
          "height": 447
        },
        "id": "djjuJVZ69IR0",
        "outputId": "b2434cf8-9372-4908-b91a-40f1dfcac0e4"
      },
      "execution_count": null,
      "outputs": [
        {
          "output_type": "execute_result",
          "data": {
            "text/plain": [
              "[<matplotlib.lines.Line2D at 0x7efd36ce9e70>]"
            ]
          },
          "metadata": {},
          "execution_count": 29
        },
        {
          "output_type": "display_data",
          "data": {
            "text/plain": [
              "<Figure size 640x480 with 1 Axes>"
            ],
            "image/png": "[encoded data removed]"
          },
          "metadata": {}
        }
      ]
    },
    {
      "cell_type": "code",
      "source": [],
      "metadata": {
        "id": "7keTkdDd9bhI"
      },
      "execution_count": null,
      "outputs": []
    }
  ],
  "metadata": {
    "accelerator": "GPU",
    "colab": {
      "provenance": []
    },
    "gpuClass": "standard",
    "kernelspec": {
      "display_name": "Python 3",
      "name": "python3"
    },
    "language_info": {
      "name": "python"
    }
  },
  "nbformat": 4,
  "nbformat_minor": 0
}